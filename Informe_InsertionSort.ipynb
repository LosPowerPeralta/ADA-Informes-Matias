{
  "nbformat": 4,
  "nbformat_minor": 0,
  "metadata": {
    "colab": {
      "name": "Informe-InsertionSort.ipynb",
      "provenance": [],
      "collapsed_sections": [],
      "authorship_tag": "ABX9TyOKpvAlYBXYkvsUitX3MFfG",
      "include_colab_link": true
    },
    "kernelspec": {
      "name": "python3",
      "display_name": "Python 3"
    },
    "language_info": {
      "name": "python"
    }
  },
  "cells": [
    {
      "cell_type": "markdown",
      "metadata": {
        "id": "view-in-github",
        "colab_type": "text"
      },
      "source": [
        "<a href=\"https://colab.research.google.com/github/LosPowerPeralta/ADA-Informes-Matias/blob/main/Informe_InsertionSort.ipynb\" target=\"_parent\"><img src=\"https://colab.research.google.com/assets/colab-badge.svg\" alt=\"Open In Colab\"/></a>"
      ]
    },
    {
      "cell_type": "markdown",
      "source": [
        "# 1. Problema de ordenamiento\n",
        "\n",
        "Los problemas de ordenamiento desde hace mucho tiempo llevan siendo un desafío para los programadores ya que siempre se intenta buscar algún algoritmo el cual pueda resolverlos de la forma más rápida posible con el menor tiempo.\n",
        "\n",
        "Por esta misma razón Martínez Vidal creo el metodo de ordenamiento por inserción el cual consiste en ordenar un arreglo de n números como si fuese un mazo de cartas.\n",
        "\n",
        "Entrada: una secuencia de n números $[a_1, a_2,...,a_n]$\n",
        "\n",
        "Salida: Retorna la misma secuencia de número ordenados de menor a mayor o viceversa.\n",
        "\n",
        "# 2. Insertion Sort\n",
        "\n",
        "## 2.1. Descripción del código\n",
        "A partir de una secuencia de n números el algoritmo debe verificar si el dato anterior al número en el que se encuentra es menor (o en caso contrario mayor), si esto ocurre llevará a cabo un cambio entre los datos para poco ir ordenando el arreglo. Si este arreglo se encuentra ordenado finaliza su ejecución retorna el mismo.\n",
        "\n",
        "![isaac_cs_dsa_sort_cards_compare_93.svg](data:image/svg+xml;base64,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)\n",
        "## 2.2. Codigo"
      ],
      "metadata": {
        "id": "hyQjM_ZsJNao"
      }
    },
    {
      "cell_type": "code",
      "source": [
        "import random\n",
        "from termcolor import colored"
      ],
      "metadata": {
        "id": "pi4v4QqgJzUB"
      },
      "execution_count": null,
      "outputs": []
    },
    {
      "cell_type": "code",
      "execution_count": null,
      "metadata": {
        "id": "4JL9PdD3I8Ml"
      },
      "outputs": [],
      "source": [
        "def InsertionSort(lista, verbose = False):\n",
        "  comparaciones = 0\n",
        "  ordenado = False\n",
        "  n = len(lista)\n",
        "\n",
        "  if verbose == True:\n",
        "    print(\"input array:\", lista)\n",
        "  for i in range(0, n):\n",
        "    dato = lista[i]\n",
        "\n",
        "    if verbose == True:\n",
        "      print(\"\\nPasada\",i + 1)\n",
        "      print(\"Verificando:\");\n",
        "      if i > 0 and i < n:\n",
        "        print(str(lista[:i - 1])[1:-1],\",\",colored(f\"{str(lista[i - 1:i + 1])[1:-1]}\",\"yellow\"),\",\",str(lista[i + 1:])[1:-1])\n",
        "      elif i == n:\n",
        "        print(str(lista[:i - 1])[1:-1],\",\",colored(f\"{str(lista[i - 1:i + 1])[1:-1]}\",\"yellow\"))\n",
        "      elif i == 0:\n",
        "        print(colored(f\"{str(lista[:i + 1])[1:-1]}\",\"yellow\"),\",\",str(lista[i + 1:])[1:-1])\n",
        "      else:\n",
        "        print(colored(f\"{str(lista[i - 1:i + 1])[1:-1]}\",\"yellow\"),\",\",str(lista[i + 1:])[1:-1])\n",
        "      print(\"\") \n",
        "\n",
        "    j = i\n",
        "    comparaciones += 1\n",
        "    while j > 0 and lista[j - 1] > dato:\n",
        "      if verbose == True:\n",
        "        if j > 1 and j < n:\n",
        "          print(\"       \",str(lista[:j - 1])[1:-1],\",\",colored(f\"{str(lista[j - 1:j + 1])[1:-1]}\",\"red\"),\",\",str(lista[j + 1:])[1:-1])\n",
        "        elif j == n:\n",
        "          print(\"       \",str(lista[:j - 1])[1:-1],\",\",colored(f\"{str(lista[j - 1:j + 1])[1:-1]}\",\"red\"))\n",
        "        else:\n",
        "          print(\"       \",colored(f\"{str(lista[j - 1:j + 1])[1:-1]}\",\"red\"),\",\",str(lista[j + 1:])[1:-1])\n",
        "      lista[j] = lista[j - 1]\n",
        "      j = j - 1\n",
        "      lista[j] = dato\n",
        "      if verbose == True:\n",
        "        if j > 0:\n",
        "          print(\"Cambio:\",str(lista[:j])[1:-1],\",\",colored(f\"{str(lista[j:j + 2])[1:-1]}\",\"red\"),\",\",str(lista[j + 2:])[1:-1])\n",
        "        else: \n",
        "          print(\"Cambio:\",colored(f\"{str(lista[j:j + 2])[1:-1]}\",\"red\"),\",\",str(lista[j + 2:])[1:-1])\n",
        "        ordenado = False\n",
        "      comparaciones += 1\n",
        "    \n",
        "    if verbose == True:\n",
        "      print(\"\\nAl finalizar:\")\n",
        "      print(colored(f\"{str(lista[:i + 1])[1:-1]}\",\"blue\"),\",\",str(lista[i + 1:])[1:-1])\n",
        "    \n",
        "\n",
        "  if verbose == True:\n",
        "    print(\"\\nIs sorted!!\")\n",
        "    print(\"Comparaciones =\", comparaciones)\n",
        "\n",
        "  \n",
        "  print(\"output array:\", lista)\n",
        "  return lista"
      ]
    },
    {
      "cell_type": "code",
      "source": [
        "A = [5,8,7,1,3]\n",
        "\n",
        "A = InsertionSort(A)"
      ],
      "metadata": {
        "colab": {
          "base_uri": "https://localhost:8080/"
        },
        "id": "LWtYNk1nSnCE",
        "outputId": "cb97410d-1f46-4c3e-f52c-aab337582df9"
      },
      "execution_count": null,
      "outputs": [
        {
          "output_type": "stream",
          "name": "stdout",
          "text": [
            "output array: [1, 3, 5, 7, 8]\n"
          ]
        }
      ]
    },
    {
      "cell_type": "markdown",
      "source": [
        "##2.2. Ejemplo\n",
        "\n",
        "Para empezar consideremos que el siguiente arreglo es recibido por la función.\n",
        "\n",
        "A = [5,4,6,1]\n",
        "\n",
        "El codigo al inicio verificará la primera posición del arreglo y a esta no le antecede ningún número no realizará acciones.\n",
        "\n",
        "A = [5,4,6,1]\n",
        "\n",
        "Luego verificará si la siguiente posición es menor a la anterior y como en este caso se da la situación se lleva a cabo un cambio entre el 4 y el 5.\n",
        "\n",
        "A = [4,5,6,1]\n",
        "\n",
        "El 5 es menor que el 6 por lo tanto no se realiza ningún cambio.\n",
        "\n",
        "A = [4,5,6,1]\n",
        "\n",
        "El 1 es menor que el 6 por lo tanto se realiza el cambio.\n",
        "\n",
        "A = [4,5,1,6]\n",
        "\n",
        "Y a partir de este punto con el cambio realizado se verifica si el número cambiado es menor al que lo antecede hasta quedar en la posición correspondiente.\n",
        "Se intercambia el 1 con el 5.\n",
        "\n",
        "A = [4,1,5,6]\n",
        "\n",
        "Se intercambia el 1 con el 4.\n",
        "\n",
        "A = [1,4,5,6]\n",
        "\n",
        "Y una vez que el codigo haya llegado hasta la última posición este ya se encontrará ordenado.\n"
      ],
      "metadata": {
        "id": "lApRZpQsUWBx"
      }
    },
    {
      "cell_type": "markdown",
      "source": [
        "## 2.4. Ejecución del algoritmo paso a paso (verbose = True)"
      ],
      "metadata": {
        "id": "c0Qb1nVLbdzc"
      }
    },
    {
      "cell_type": "code",
      "source": [
        "a = random.sample(range(1, 100), 6)\n",
        "\n",
        "a = InsertionSort(a, verbose = True)"
      ],
      "metadata": {
        "colab": {
          "base_uri": "https://localhost:8080/"
        },
        "id": "4p17j1qkbcqq",
        "outputId": "785d7bce-8913-4d32-d6ec-b90dcbba4d27"
      },
      "execution_count": null,
      "outputs": [
        {
          "output_type": "stream",
          "name": "stdout",
          "text": [
            "input array: [76, 77, 72, 61, 88, 31]\n",
            "\n",
            "Pasada 1\n",
            "Verificando:\n",
            "\u001b[33m76\u001b[0m , 77, 72, 61, 88, 31\n",
            "\n",
            "\n",
            "Al finalizar:\n",
            "\u001b[34m76\u001b[0m , 77, 72, 61, 88, 31\n",
            "\n",
            "Pasada 2\n",
            "Verificando:\n",
            " , \u001b[33m76, 77\u001b[0m , 72, 61, 88, 31\n",
            "\n",
            "\n",
            "Al finalizar:\n",
            "\u001b[34m76, 77\u001b[0m , 72, 61, 88, 31\n",
            "\n",
            "Pasada 3\n",
            "Verificando:\n",
            "76 , \u001b[33m77, 72\u001b[0m , 61, 88, 31\n",
            "\n",
            "        76 , \u001b[31m77, 72\u001b[0m , 61, 88, 31\n",
            "Cambio: 76 , \u001b[31m72, 77\u001b[0m , 61, 88, 31\n",
            "        \u001b[31m76, 72\u001b[0m , 77, 61, 88, 31\n",
            "Cambio: \u001b[31m72, 76\u001b[0m , 77, 61, 88, 31\n",
            "\n",
            "Al finalizar:\n",
            "\u001b[34m72, 76, 77\u001b[0m , 61, 88, 31\n",
            "\n",
            "Pasada 4\n",
            "Verificando:\n",
            "72, 76 , \u001b[33m77, 61\u001b[0m , 88, 31\n",
            "\n",
            "        72, 76 , \u001b[31m77, 61\u001b[0m , 88, 31\n",
            "Cambio: 72, 76 , \u001b[31m61, 77\u001b[0m , 88, 31\n",
            "        72 , \u001b[31m76, 61\u001b[0m , 77, 88, 31\n",
            "Cambio: 72 , \u001b[31m61, 76\u001b[0m , 77, 88, 31\n",
            "        \u001b[31m72, 61\u001b[0m , 76, 77, 88, 31\n",
            "Cambio: \u001b[31m61, 72\u001b[0m , 76, 77, 88, 31\n",
            "\n",
            "Al finalizar:\n",
            "\u001b[34m61, 72, 76, 77\u001b[0m , 88, 31\n",
            "\n",
            "Pasada 5\n",
            "Verificando:\n",
            "61, 72, 76 , \u001b[33m77, 88\u001b[0m , 31\n",
            "\n",
            "\n",
            "Al finalizar:\n",
            "\u001b[34m61, 72, 76, 77, 88\u001b[0m , 31\n",
            "\n",
            "Pasada 6\n",
            "Verificando:\n",
            "61, 72, 76, 77 , \u001b[33m88, 31\u001b[0m , \n",
            "\n",
            "        61, 72, 76, 77 , \u001b[31m88, 31\u001b[0m , \n",
            "Cambio: 61, 72, 76, 77 , \u001b[31m31, 88\u001b[0m , \n",
            "        61, 72, 76 , \u001b[31m77, 31\u001b[0m , 88\n",
            "Cambio: 61, 72, 76 , \u001b[31m31, 77\u001b[0m , 88\n",
            "        61, 72 , \u001b[31m76, 31\u001b[0m , 77, 88\n",
            "Cambio: 61, 72 , \u001b[31m31, 76\u001b[0m , 77, 88\n",
            "        61 , \u001b[31m72, 31\u001b[0m , 76, 77, 88\n",
            "Cambio: 61 , \u001b[31m31, 72\u001b[0m , 76, 77, 88\n",
            "        \u001b[31m61, 31\u001b[0m , 72, 76, 77, 88\n",
            "Cambio: \u001b[31m31, 61\u001b[0m , 72, 76, 77, 88\n",
            "\n",
            "Al finalizar:\n",
            "\u001b[34m31, 61, 72, 76, 77, 88\u001b[0m , \n",
            "\n",
            "Is sorted!!\n",
            "Comparaciones = 16\n",
            "output array: [31, 61, 72, 76, 77, 88]\n"
          ]
        }
      ]
    },
    {
      "cell_type": "markdown",
      "source": [
        "# 3. Tiempo de ejecución\n",
        "## 3.1. Teorema (Tiempo de ejecución)\n"
      ],
      "metadata": {
        "id": "5m2_7TgFc-OL"
      }
    },
    {
      "cell_type": "code",
      "source": [
        ""
      ],
      "metadata": {
        "id": "iy5JQWOvc97A"
      },
      "execution_count": null,
      "outputs": []
    }
  ]
}