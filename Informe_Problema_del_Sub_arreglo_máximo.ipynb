{
  "nbformat": 4,
  "nbformat_minor": 0,
  "metadata": {
    "colab": {
      "name": "Informe-Problema del Sub-arreglo máximo",
      "provenance": [],
      "collapsed_sections": [],
      "authorship_tag": "ABX9TyN3j2M8oqdZfOW4aTUABsiw",
      "include_colab_link": true
    },
    "kernelspec": {
      "name": "python3",
      "display_name": "Python 3"
    },
    "language_info": {
      "name": "python"
    }
  },
  "cells": [
    {
      "cell_type": "markdown",
      "metadata": {
        "id": "view-in-github",
        "colab_type": "text"
      },
      "source": [
        "<a href=\"https://colab.research.google.com/github/LosPowerPeralta/ADA-Informes-Matias/blob/main/Informe_Problema_del_Sub_arreglo_m%C3%A1ximo.ipynb\" target=\"_parent\"><img src=\"https://colab.research.google.com/assets/colab-badge.svg\" alt=\"Open In Colab\"/></a>"
      ]
    },
    {
      "cell_type": "markdown",
      "source": [
        "#1. Problema del Sub-arreglo máximo\n",
        "\n",
        "Este problema consiste en buscar dentro de un array de largo $n$ un Sub-Arreglo que contenga la suma máxima de elementos dentro del mismo.\n",
        "\n",
        "Entrada: Una secuencia de $n$ números $[a_1,a_2,...,a_n]$.\n",
        "\n",
        "Salida: Una secuencia de $m$ números $[a_1',a_2',...,a_m']$ donde $m \\leq n$ y a la vez la suma de sus componentes es la mayor que se puede ubicar dentro del array. "
      ],
      "metadata": {
        "id": "gBror1_YzHVT"
      }
    },
    {
      "cell_type": "markdown",
      "source": [
        "#2. MaxSubArray\n",
        "\n",
        "##2.1.Descripción del paradigma divide y venceras\n",
        "\n",
        "Este paradigma consiste en dividir nuestro problema tanto como podamos para que la solución a este se torne \"obvia\". Para poner un ejemplo, el algoritmo de ordenamiento MergeSort utiliza este paradigma dividiendo un arreglo hasta conseguir sub-arreglos de largo 1, los cuales tomaremos como \"Obvio\" de que están ordenados ya que solo presentan un elemento.\n",
        "\n",
        "##2.2. Codigo "
      ],
      "metadata": {
        "id": "PtbqK4vv54rU"
      }
    },
    {
      "cell_type": "code",
      "source": [
        "import random as rd\n",
        "import matplotlib.pyplot as plt\n",
        "import datetime\n",
        "import math as mt\n",
        "from timeit import repeat\n",
        "from termcolor import colored"
      ],
      "metadata": {
        "id": "rSvnJ0nUQY2D"
      },
      "execution_count": 32,
      "outputs": []
    },
    {
      "cell_type": "code",
      "execution_count": 33,
      "metadata": {
        "id": "Yh27z7A9y3pb"
      },
      "outputs": [],
      "source": [
        "def MaxSubArrayMid(lista, mid, cont,verbose):\n",
        "  if verbose:\n",
        "    print(\"Función\", colored(f\"MaxSubArrayMid()\", \"yellow\"))\n",
        "    print(\"Entrada:\", str(lista)[1:-1], \"\\n\")\n",
        "\n",
        "  if len(lista) == 1:\n",
        "    return lista, lista[0]\n",
        "\n",
        "  auxI = 0 #Variable que nos indicará desde donde empieza el arreglo con mayor suma\n",
        "  auxJ = 0 #Variable que nos indicará desde donde finaliza el arreglo con mayor sumaV\n",
        "  sum = 0\n",
        "  maxD = -10000000\n",
        "\n",
        "  #Ciclo que verificará el arrelgo Izquierdo\n",
        "  if verbose: \n",
        "    print(\"Arreglo a analizar (Mitad Izquierda):\", colored(f\"{str(lista[:mid])[1:-1]}\", \"green\"), \"\\n\")\n",
        "  for i in range(mid - 1, -1, -1):\n",
        "    cont += 1\n",
        "    sum += lista[i]\n",
        "    if verbose:\n",
        "      print(colored(f\"{sum}\", \"red\"), \">=\", colored(f\"{maxD}\", \"red\"))\n",
        "\n",
        "    if sum > maxD:\n",
        "      maxD = sum\n",
        "      auxI = i \n",
        "\n",
        "      if verbose:\n",
        "        print(\"Nuevo indice inicial para el sub-arreglo mayor:\", colored(f\"{i}\", \"blue\"))\n",
        "        print(\"Suma del sub-arreglo (Parte Izquierda):\", colored(f\"{maxD}\", \"yellow\"), \"\\n\")\n",
        "    \n",
        "  sum = 0\n",
        "  maxI = -10000000\n",
        "\n",
        "  #Ciclo que verificará el arreglo Derecho\n",
        "  if verbose: \n",
        "    print(\"Arreglo a analizar (Mitad Derecha):\", colored(f\"{str(lista[mid:])[1:-1]}\", \"green\"), \"\\n\")\n",
        "  for j in range(mid, len(lista)):\n",
        "    cont += 1\n",
        "    sum += lista[j]\n",
        "    if verbose:\n",
        "      print(colored(f\"{sum}\", \"red\"), \">=\", colored(f\"{maxI}\", \"red\"))\n",
        "\n",
        "    if sum > maxI:\n",
        "      maxI = sum\n",
        "      auxJ = j\n",
        "\n",
        "      if verbose:\n",
        "        print(\"Nuevo indice final para el sub-arreglo mayor:\", colored(f\"{j}\", \"blue\"))\n",
        "        print(\"Suma del sub-arreglo(Parte Derecha):\", colored(f\"{maxD}\", \"yellow\"), \"\\n\")\n",
        "\n",
        "  if verbose:\n",
        "    print(\"Sub-arreglo resultante:\", colored(f\"{str(lista[auxI:auxJ + 1])[1:-1]}\", \"blue\"))\n",
        "    print(\"Suma total del arreglo: \", colored(f\"{maxI + maxD}\", \"yellow\"), \"\\n\")\n",
        "\n",
        "  return lista[auxI:auxJ + 1], maxI + maxD, cont"
      ]
    },
    {
      "cell_type": "code",
      "source": [
        "\n",
        "def MaxSubArray(lista, cont = 0,verbose= False):\n",
        "  if verbose:\n",
        "    print(\"Función \", colored(f\"MaxSubArray()\", \"yellow\"))\n",
        "    print(\"Entrada:\", str(lista)[1:-1], \"\\n\")\n",
        "\n",
        "  if len(lista) == 1:\n",
        "    return lista, lista[0], cont\n",
        "  \n",
        "  mid = len(lista) // 2\n",
        "  listaI = lista[:mid]\n",
        "  listaD = lista[mid:]\n",
        "\n",
        "  if verbose:\n",
        "    print(\"Mitad Izquierda:\", str(listaI)[1:-1])\n",
        "    print(\"Mitad Derecha:\", str(listaD)[1:-1], \"\\n\")\n",
        "\n",
        "  maxListaI, sumI, cont = MaxSubArray(listaI, cont,verbose)\n",
        "  maxListaD, sumD, cont = MaxSubArray(listaD, cont,verbose)\n",
        "  maxListaMid, sumMid, cont = MaxSubArrayMid(lista, mid, cont, verbose)\n",
        "\n",
        "  if verbose:\n",
        "    print(\"Listas con sus sumas máximas: \")\n",
        "    print(\"Lista Izquierda:\", str(maxListaI)[1:-1], \", Suma =\", sumI)\n",
        "    print(\"Lista Derecha:\", str(maxListaD)[1:-1], \", Suma =\", sumD)\n",
        "    if len(maxListaMid) == 0:\n",
        "      print(\"Lista Media vacía\")\n",
        "    else:\n",
        "      print(\"Lista Media:\", str(maxListaMid)[1:-1], \", Suma =\", sumMid, \"\\n\") \n",
        "\n",
        "  if max(sumI, sumD, sumMid) == sumI:\n",
        "    if verbose:\n",
        "      print(\"Retorna:\", str(maxListaI)[1:-1], \"\\n\")\n",
        "    return maxListaI, sumI, cont\n",
        "  elif max(sumI, sumD, sumMid) == sumD:\n",
        "    if verbose:\n",
        "      print(\"Retorna:\", str(maxListaD)[1:-1], \"\\n\")\n",
        "    return maxListaD, sumD, cont\n",
        "\n",
        "  if verbose:\n",
        "    print(\"Retorna:\", str(maxListaMid)[1:-1], \"\\n\")\n",
        "  return maxListaMid, sumMid, cont\n"
      ],
      "metadata": {
        "id": "WBtLCyTOMQVh"
      },
      "execution_count": 34,
      "outputs": []
    },
    {
      "cell_type": "code",
      "source": [
        "A = [-1,5,8,2,-4,-1]\n",
        "\n",
        "A, sum, cont = MaxSubArray(A)\n",
        "print(A, cont)"
      ],
      "metadata": {
        "colab": {
          "base_uri": "https://localhost:8080/"
        },
        "id": "oxP_otgSUbKJ",
        "outputId": "a53a1ddc-3213-4903-e773-bcd21efb5aa8"
      },
      "execution_count": 38,
      "outputs": [
        {
          "output_type": "stream",
          "name": "stdout",
          "text": [
            "[5, 8, 2] 16\n"
          ]
        }
      ]
    },
    {
      "cell_type": "markdown",
      "source": [
        "##2.3. Ejemplo\n",
        "\n",
        "Para comenzar utilizaremos el siguiente arreglo.\n",
        "\n",
        "$A = [-1,5,8,2,-4,-1]$\n",
        "\n",
        "Al ser recibido por la función MaxSubArray, está la divide en 2 hasta conseguir un arreglo de un solo elemento.\n",
        "\n",
        "$[-1,5,8]...[2,-4,-1]$\n",
        "\n",
        "$[-1]...[5,8]...[2]...[-4,-1]$\n",
        "\n",
        "$[-1]...[5]...[8]...[2]...[-4]...[-1]$\n",
        "\n",
        "A partir de este punto la función MaxSubArray supone que los arreglos recibidos son los que tienen la mayor suma y luego la función anterior revisa que arreglo (derecho o izquierdo) vuelve a tener la mayor suma para retornarlo.\n",
        "\n",
        "Una vez hecho esto la función MaxSubArray hace el llamado a la función MaxSubArrayMid y esta verifica si la mayor suma se encuentra en un subarreglo entremedio del arreglo original. \n",
        "\n",
        "En el arreglo $[5,8]$ la función MaxSubArrayMid sumará los valores que se encuentren en este arreglo, empezando desde el medio y yendo hasta el último elemnto de la derecha y el último elemento de la izquierda.\n",
        "\n",
        "Al final la función MaxSubArray retorna el sub-arreglo de mayor suma entre la derecha, izquierda y medio.\n",
        "\n",
        "$[5,8]...[2]...[-1]$\n",
        "\n",
        "$[5,8,2]...[-1]$\n",
        "\n",
        "$[5,8,2]$\n",
        "\n",
        "por lo tanto el arreglo de salida sería \n",
        "\n",
        "$A = [5,8,2]$\n",
        "\n"
      ],
      "metadata": {
        "id": "f1FSe4FhBq05"
      }
    },
    {
      "cell_type": "markdown",
      "source": [
        "##2.4. Ejecución del algoritmo paso a paso (Verbose = True)"
      ],
      "metadata": {
        "id": "KQqjwDeTIhsU"
      }
    },
    {
      "cell_type": "code",
      "source": [
        "A = [-1,5,8,2,-4,-1]\n",
        "\n",
        "A, sum, cont = MaxSubArray(A, verbose= True)\n",
        "print(A)"
      ],
      "metadata": {
        "colab": {
          "base_uri": "https://localhost:8080/"
        },
        "id": "TtiNxWvpImni",
        "outputId": "85faac5b-7034-4c4c-f4a3-8266242e78cc"
      },
      "execution_count": 37,
      "outputs": [
        {
          "output_type": "stream",
          "name": "stdout",
          "text": [
            "Función  \u001b[33mMaxSubArray()\u001b[0m\n",
            "Entrada: -1, 5, 8, 2, -4, -1 \n",
            "\n",
            "Mitad Izquierda: -1, 5, 8\n",
            "Mitad Derecha: 2, -4, -1 \n",
            "\n",
            "Función  \u001b[33mMaxSubArray()\u001b[0m\n",
            "Entrada: -1, 5, 8 \n",
            "\n",
            "Mitad Izquierda: -1\n",
            "Mitad Derecha: 5, 8 \n",
            "\n",
            "Función  \u001b[33mMaxSubArray()\u001b[0m\n",
            "Entrada: -1 \n",
            "\n",
            "Función  \u001b[33mMaxSubArray()\u001b[0m\n",
            "Entrada: 5, 8 \n",
            "\n",
            "Mitad Izquierda: 5\n",
            "Mitad Derecha: 8 \n",
            "\n",
            "Función  \u001b[33mMaxSubArray()\u001b[0m\n",
            "Entrada: 5 \n",
            "\n",
            "Función  \u001b[33mMaxSubArray()\u001b[0m\n",
            "Entrada: 8 \n",
            "\n",
            "Función \u001b[33mMaxSubArrayMid()\u001b[0m\n",
            "Entrada: 5, 8 \n",
            "\n",
            "Arreglo a analizar (Mitad Izquierda): \u001b[32m5\u001b[0m \n",
            "\n",
            "\u001b[31m5\u001b[0m >= \u001b[31m-10000000\u001b[0m\n",
            "Nuevo indice inicial para el sub-arreglo mayor: \u001b[34m0\u001b[0m\n",
            "Suma del sub-arreglo (Parte Izquierda): \u001b[33m5\u001b[0m \n",
            "\n",
            "Arreglo a analizar (Mitad Derecha): \u001b[32m8\u001b[0m \n",
            "\n",
            "\u001b[31m8\u001b[0m >= \u001b[31m-10000000\u001b[0m\n",
            "Nuevo indice final para el sub-arreglo mayor: \u001b[34m1\u001b[0m\n",
            "Suma del sub-arreglo(Parte Derecha): \u001b[33m5\u001b[0m \n",
            "\n",
            "Sub-arreglo resultante: \u001b[34m5, 8\u001b[0m\n",
            "Suma total del arreglo:  \u001b[33m13\u001b[0m \n",
            "\n",
            "Listas con sus sumas máximas: \n",
            "Lista Izquierda: 5 , Suma = 5\n",
            "Lista Derecha: 8 , Suma = 8\n",
            "Lista Media: 5, 8 , Suma = 13 \n",
            "\n",
            "Retorna: 5, 8 \n",
            "\n",
            "Función \u001b[33mMaxSubArrayMid()\u001b[0m\n",
            "Entrada: -1, 5, 8 \n",
            "\n",
            "Arreglo a analizar (Mitad Izquierda): \u001b[32m-1\u001b[0m \n",
            "\n",
            "\u001b[31m-1\u001b[0m >= \u001b[31m-10000000\u001b[0m\n",
            "Nuevo indice inicial para el sub-arreglo mayor: \u001b[34m0\u001b[0m\n",
            "Suma del sub-arreglo (Parte Izquierda): \u001b[33m-1\u001b[0m \n",
            "\n",
            "Arreglo a analizar (Mitad Derecha): \u001b[32m5, 8\u001b[0m \n",
            "\n",
            "\u001b[31m5\u001b[0m >= \u001b[31m-10000000\u001b[0m\n",
            "Nuevo indice final para el sub-arreglo mayor: \u001b[34m1\u001b[0m\n",
            "Suma del sub-arreglo(Parte Derecha): \u001b[33m-1\u001b[0m \n",
            "\n",
            "\u001b[31m13\u001b[0m >= \u001b[31m5\u001b[0m\n",
            "Nuevo indice final para el sub-arreglo mayor: \u001b[34m2\u001b[0m\n",
            "Suma del sub-arreglo(Parte Derecha): \u001b[33m-1\u001b[0m \n",
            "\n",
            "Sub-arreglo resultante: \u001b[34m-1, 5, 8\u001b[0m\n",
            "Suma total del arreglo:  \u001b[33m12\u001b[0m \n",
            "\n",
            "Listas con sus sumas máximas: \n",
            "Lista Izquierda: -1 , Suma = -1\n",
            "Lista Derecha: 5, 8 , Suma = 13\n",
            "Lista Media: -1, 5, 8 , Suma = 12 \n",
            "\n",
            "Retorna: 5, 8 \n",
            "\n",
            "Función  \u001b[33mMaxSubArray()\u001b[0m\n",
            "Entrada: 2, -4, -1 \n",
            "\n",
            "Mitad Izquierda: 2\n",
            "Mitad Derecha: -4, -1 \n",
            "\n",
            "Función  \u001b[33mMaxSubArray()\u001b[0m\n",
            "Entrada: 2 \n",
            "\n",
            "Función  \u001b[33mMaxSubArray()\u001b[0m\n",
            "Entrada: -4, -1 \n",
            "\n",
            "Mitad Izquierda: -4\n",
            "Mitad Derecha: -1 \n",
            "\n",
            "Función  \u001b[33mMaxSubArray()\u001b[0m\n",
            "Entrada: -4 \n",
            "\n",
            "Función  \u001b[33mMaxSubArray()\u001b[0m\n",
            "Entrada: -1 \n",
            "\n",
            "Función \u001b[33mMaxSubArrayMid()\u001b[0m\n",
            "Entrada: -4, -1 \n",
            "\n",
            "Arreglo a analizar (Mitad Izquierda): \u001b[32m-4\u001b[0m \n",
            "\n",
            "\u001b[31m-4\u001b[0m >= \u001b[31m-10000000\u001b[0m\n",
            "Nuevo indice inicial para el sub-arreglo mayor: \u001b[34m0\u001b[0m\n",
            "Suma del sub-arreglo (Parte Izquierda): \u001b[33m-4\u001b[0m \n",
            "\n",
            "Arreglo a analizar (Mitad Derecha): \u001b[32m-1\u001b[0m \n",
            "\n",
            "\u001b[31m-1\u001b[0m >= \u001b[31m-10000000\u001b[0m\n",
            "Nuevo indice final para el sub-arreglo mayor: \u001b[34m1\u001b[0m\n",
            "Suma del sub-arreglo(Parte Derecha): \u001b[33m-4\u001b[0m \n",
            "\n",
            "Sub-arreglo resultante: \u001b[34m-4, -1\u001b[0m\n",
            "Suma total del arreglo:  \u001b[33m-5\u001b[0m \n",
            "\n",
            "Listas con sus sumas máximas: \n",
            "Lista Izquierda: -4 , Suma = -4\n",
            "Lista Derecha: -1 , Suma = -1\n",
            "Lista Media: -4, -1 , Suma = -5 \n",
            "\n",
            "Retorna: -1 \n",
            "\n",
            "Función \u001b[33mMaxSubArrayMid()\u001b[0m\n",
            "Entrada: 2, -4, -1 \n",
            "\n",
            "Arreglo a analizar (Mitad Izquierda): \u001b[32m2\u001b[0m \n",
            "\n",
            "\u001b[31m2\u001b[0m >= \u001b[31m-10000000\u001b[0m\n",
            "Nuevo indice inicial para el sub-arreglo mayor: \u001b[34m0\u001b[0m\n",
            "Suma del sub-arreglo (Parte Izquierda): \u001b[33m2\u001b[0m \n",
            "\n",
            "Arreglo a analizar (Mitad Derecha): \u001b[32m-4, -1\u001b[0m \n",
            "\n",
            "\u001b[31m-4\u001b[0m >= \u001b[31m-10000000\u001b[0m\n",
            "Nuevo indice final para el sub-arreglo mayor: \u001b[34m1\u001b[0m\n",
            "Suma del sub-arreglo(Parte Derecha): \u001b[33m2\u001b[0m \n",
            "\n",
            "\u001b[31m-5\u001b[0m >= \u001b[31m-4\u001b[0m\n",
            "Sub-arreglo resultante: \u001b[34m2, -4\u001b[0m\n",
            "Suma total del arreglo:  \u001b[33m-2\u001b[0m \n",
            "\n",
            "Listas con sus sumas máximas: \n",
            "Lista Izquierda: 2 , Suma = 2\n",
            "Lista Derecha: -1 , Suma = -1\n",
            "Lista Media: 2, -4 , Suma = -2 \n",
            "\n",
            "Retorna: 2 \n",
            "\n",
            "Función \u001b[33mMaxSubArrayMid()\u001b[0m\n",
            "Entrada: -1, 5, 8, 2, -4, -1 \n",
            "\n",
            "Arreglo a analizar (Mitad Izquierda): \u001b[32m-1, 5, 8\u001b[0m \n",
            "\n",
            "\u001b[31m8\u001b[0m >= \u001b[31m-10000000\u001b[0m\n",
            "Nuevo indice inicial para el sub-arreglo mayor: \u001b[34m2\u001b[0m\n",
            "Suma del sub-arreglo (Parte Izquierda): \u001b[33m8\u001b[0m \n",
            "\n",
            "\u001b[31m13\u001b[0m >= \u001b[31m8\u001b[0m\n",
            "Nuevo indice inicial para el sub-arreglo mayor: \u001b[34m1\u001b[0m\n",
            "Suma del sub-arreglo (Parte Izquierda): \u001b[33m13\u001b[0m \n",
            "\n",
            "\u001b[31m12\u001b[0m >= \u001b[31m13\u001b[0m\n",
            "Arreglo a analizar (Mitad Derecha): \u001b[32m2, -4, -1\u001b[0m \n",
            "\n",
            "\u001b[31m2\u001b[0m >= \u001b[31m-10000000\u001b[0m\n",
            "Nuevo indice final para el sub-arreglo mayor: \u001b[34m3\u001b[0m\n",
            "Suma del sub-arreglo(Parte Derecha): \u001b[33m13\u001b[0m \n",
            "\n",
            "\u001b[31m-2\u001b[0m >= \u001b[31m2\u001b[0m\n",
            "\u001b[31m-3\u001b[0m >= \u001b[31m2\u001b[0m\n",
            "Sub-arreglo resultante: \u001b[34m5, 8, 2\u001b[0m\n",
            "Suma total del arreglo:  \u001b[33m15\u001b[0m \n",
            "\n",
            "Listas con sus sumas máximas: \n",
            "Lista Izquierda: 5, 8 , Suma = 13\n",
            "Lista Derecha: 2 , Suma = 2\n",
            "Lista Media: 5, 8, 2 , Suma = 15 \n",
            "\n",
            "Retorna: 5, 8, 2 \n",
            "\n",
            "[5, 8, 2]\n"
          ]
        }
      ]
    },
    {
      "cell_type": "markdown",
      "source": [
        "#3. Tiempo de ejecución\n",
        "\n",
        "##Teorema (Tiempo de ejecución)\n",
        "\n",
        "El tiempo de ejecución de este algoritmo en todos sus casos es de $O(nlogn)$.\n",
        "\n",
        "###**Árbol de recurrencia**\n",
        "\n",
        "Para demostrar la complejidad de nuestro algoritmo de forma intuitiva necesitaremos hacer uso de un árbol de recurrencia, para esto deberemos definir una función la cual explicará nuestro algoritmo de forma matemática, como por ejemplo:\n",
        "\n",
        "$T(n) = \\begin{cases}\n",
        "  c  & n \\text{ is small} \\\\\n",
        "  2 T(n/2) + c \\cdot n & \\text{ otherwise}\n",
        "\\end{cases}$\n",
        "\n",
        "Luego de esto podremos armar nuestro árbol de la siguiente forma:\n",
        "\n",
        "![image.png](data:image/png;base64,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)"
      ],
      "metadata": {
        "id": "JCNiKt02I2gY"
      }
    },
    {
      "cell_type": "markdown",
      "source": [
        "Hasta conseguir el árbol y los resultados de sus aproximaciones.\n",
        "\n",
        "![image.png](data:image/png;base64,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)"
      ],
      "metadata": {
        "id": "43ngLO5ERDoa"
      }
    },
    {
      "cell_type": "markdown",
      "source": [
        "Finalmente analizando el árbol de recursión podemos decir que la suma de todos los tiempode es: $cn \\log_2 n \\rightarrow O(n \\log n)$."
      ],
      "metadata": {
        "id": "dDxzRN6tSd9J"
      }
    },
    {
      "cell_type": "markdown",
      "source": [
        "##Prueba del teorema\n",
        "\n",
        "Teniendo en cuenta el funcionamiento de nuestro algoritmo, este no nos deja del todo claro cual vendría siendo el mejor caso, peor caso o caso promedio, ya que este codigo sin importar el tamaño que tenga irá dividiendo un arreglo largo $n$ en 2 hasta que quede uno de largo 1, ya además la función MaxSubArrayMid verificará todos los espacios del arreglo recibido. Por esta misma razón se realizará una comparación con la cantidad de comparaciones que realiza nuestra función con la aproximación matemática que debería tener gracias a nuestro analisis del árbol recursivo."
      ],
      "metadata": {
        "id": "dZjtKk0FShBM"
      }
    },
    {
      "cell_type": "code",
      "source": [
        "for n in range(1,15):\n",
        "  x = rd.sample(range(-100,100), n)\n",
        "  a, sum, cont = MaxSubArray(x)\n",
        "  print(\"Caso\",n,\":\",x)\n",
        "  print(\"Entradas al bucle =\", cont, \", Aproximación matemática =\", (n * mt.log2(n)) // 1, \"\\n\")"
      ],
      "metadata": {
        "colab": {
          "base_uri": "https://localhost:8080/"
        },
        "id": "VeAagnjWVZou",
        "outputId": "79f26e04-f3f0-44c9-e258-5054d16d227c"
      },
      "execution_count": 41,
      "outputs": [
        {
          "output_type": "stream",
          "name": "stdout",
          "text": [
            "Caso 1 : [14]\n",
            "Entradas al bucle = 0 , Aproximación matemática = 0.0 \n",
            "\n",
            "Caso 2 : [98, 49]\n",
            "Entradas al bucle = 2 , Aproximación matemática = 2.0 \n",
            "\n",
            "Caso 3 : [17, 59, 86]\n",
            "Entradas al bucle = 5 , Aproximación matemática = 4.0 \n",
            "\n",
            "Caso 4 : [72, 3, 7, -24]\n",
            "Entradas al bucle = 8 , Aproximación matemática = 8.0 \n",
            "\n",
            "Caso 5 : [-5, -81, -63, -6, 46]\n",
            "Entradas al bucle = 12 , Aproximación matemática = 11.0 \n",
            "\n",
            "Caso 6 : [90, -20, 6, -80, -65, -84]\n",
            "Entradas al bucle = 16 , Aproximación matemática = 15.0 \n",
            "\n",
            "Caso 7 : [-62, -3, 55, 37, -18, -9, 76]\n",
            "Entradas al bucle = 20 , Aproximación matemática = 19.0 \n",
            "\n",
            "Caso 8 : [83, -95, 44, 36, -67, -82, 16, 12]\n",
            "Entradas al bucle = 24 , Aproximación matemática = 24.0 \n",
            "\n",
            "Caso 9 : [-1, -22, -15, 33, 89, -89, 60, -98, -73]\n",
            "Entradas al bucle = 29 , Aproximación matemática = 28.0 \n",
            "\n",
            "Caso 10 : [90, 7, 53, 84, -40, -28, -39, 79, 71, -96]\n",
            "Entradas al bucle = 34 , Aproximación matemática = 33.0 \n",
            "\n",
            "Caso 11 : [-68, -36, 99, -58, -41, -100, -37, 62, -7, 39, 79]\n",
            "Entradas al bucle = 39 , Aproximación matemática = 38.0 \n",
            "\n",
            "Caso 12 : [78, -18, -7, -26, 8, 83, 42, 80, -97, -1, -36, 54]\n",
            "Entradas al bucle = 44 , Aproximación matemática = 43.0 \n",
            "\n",
            "Caso 13 : [35, -3, 9, -79, -14, -86, -60, -31, -97, -92, 3, 0, -1]\n",
            "Entradas al bucle = 49 , Aproximación matemática = 48.0 \n",
            "\n",
            "Caso 14 : [-4, 71, -8, 40, 28, 39, -11, 94, -34, -74, -9, -87, -71, -31]\n",
            "Entradas al bucle = 54 , Aproximación matemática = 53.0 \n",
            "\n"
          ]
        }
      ]
    },
    {
      "cell_type": "markdown",
      "source": [
        "Como podemos ver en los calculos, la cantidad de comparaciones que realiza nuestra función es muy cercana al calculo matemático anteriormente mencionado. Por lo tanto podemos asumir que todos los casos del algoritmo tienen una complejidad de $O(nlogn)$."
      ],
      "metadata": {
        "id": "93SiZOSPXtFs"
      }
    },
    {
      "cell_type": "markdown",
      "source": [
        "#4. Correctitud\n",
        "\n",
        "###Teorema de correctitud\n",
        "\n",
        "El algoritmo para encontrar el Sub-arreglo máximo recibe como entrada una secuencia de números de tamaño $n$ ($[a_1,a_2,...,a_n]$) y retorna un arreglo de largo $m \\leq n$ el cual contendrá la secuencia con la suma máxima $[a_1',a_2',...,a_m']$ donde $\\sum\\limits_{i = 1}^{n}a_i \\leq \\sum\\limits_{i = 1}^{m}a_i'$.\n",
        "\n",
        "##Prueba del teorema\n",
        "\n",
        "Como observamos anteriormente nuestra función MaxSubArray va diviendo nuestro arreglo de tamaño $n$ en sub-arreglos de largo $m = \\frac{n}{2}$ hasta conseguir un array de largo 1 y por último nustra función MaxSubArrayMid buscará los sub-arreglos máximos que hay en el medio del arreglo original recorriendolo por completo.\n",
        "\n",
        "Por lo tanto para la función MaxSubArray podemos demostrarla con inducción matemática y para función MaxSubArrayMid haremos uso de un análisis émpirico."
      ],
      "metadata": {
        "id": "xKnPfs6fa6ZB"
      }
    },
    {
      "cell_type": "markdown",
      "source": [
        "##Prueba del teorema (Función MaxSubArray)\n",
        "\n",
        "###**Teorema 1**:\n",
        "\n",
        "Está función recibirá una secuencia de $n$ números $[a_1,a_2,...,a_n]$\n",
        "y retornará un sub-arreglo el cual contenga la suma máxima que se encuentre en el arreglo de entrada.\n",
        "\n",
        "Salida: Una secuencia de $m$ números donde $m \\leq n$, $[a_1',a_2',...,a_m']$ donde $\\sum\\limits_{i = 0}^{n}a_i \\leq \\sum\\limits_{i = 0}^{m}a_i'$.\n",
        "\n",
        "###Demostración\n",
        "\n",
        "En inducción matematemática para poder demostrar una declaración $P(n)$ debemos realizar los siguientes pasos.\n",
        "\n",
        "> 1. Probar un caso base $P(1)$ y comprobar si el algoritmo funciona correctamente.\n",
        "> 2. Probar si $P(m)$ donde $m < n$ es correcto, por lo tanto para $P(n)$ también lo será.\n",
        "\n",
        "Para nuestro primer caso, nuestra función rebiría un arreglo de largo $n = 1$. por lo tanto, como este tendrá un solo elemento, se considerará que ese único elemento es la suma máxima. Por lo tanto para nuestro primer caso el algoritmo es correcto.\n",
        "\n",
        "Para nuestro siguiente paso, la función recibirá un arreglo de largo $n$, este será divido en 2 sub-arrelgos de largo $m = \\frac{n}{2}$ y esto ocurrirá hasta que el largo recibido por la función sea de  $m = 1$ como nuestro caso base. Por lo tanto se comprueba que nuestra función MaxSubArray funciona correctamente. \n",
        "\n",
        "##Prueba del teorema (Función MaxSubArrayMid)\n",
        "\n",
        "La función MaxSubArrayMid tiene como entrada un arreglo y la posición media del mismo (mid).\n",
        "\n",
        "Su proposito es buscar dentro del arreglo un sub-arreglo que contenga la suma máxima de datos para luego retornarlo.\n",
        "\n",
        "Para probarlo haremos uso de la propiedad invariante de bucle. Para esto debemos analizar la inicialización de nuestros bucles ($i = mid - 1$, $j = mid$) y probar si este se mantiene durante la ejecución de los ciclos.\n",
        "\n",
        "> Al comienzo de cada iteración $i$ y $j$ serán las variables que irán en aumento en cada bucle, donde $i$ vendría siendo la posición anterior a la mitad del arreglo ingresado y $j$ vendría siendo la posición media de nuestro arreglo. Al finalizar cada bucle debe quedar como arreglo resultante el que tenga la mayor suma de datos.\n",
        "\n",
        "###**Inicialización:**\n",
        "\n",
        "Al comienzo de cada iteración (i = mid - 1, j = mid) los arreglos resultantes si o si tendrán la suma máxima de elementos ya que estos estarán compuestos de un solo elemento.\n",
        "\n",
        "###**Mantención**\n",
        "\n",
        "Empezamos considerando que al comienzo de cada iteración los arreglos resultantes de cada bucle serán aquellos que contengan la suma máxima de elementos.\n",
        "\n",
        "\n",
        "\n"
      ],
      "metadata": {
        "id": "Y7iGSKr-euqz"
      }
    },
    {
      "cell_type": "markdown",
      "source": [
        "#5. Experimentación\n",
        "\n",
        "##5.1. Número compariciones\n",
        "\n",
        "* Cantidad de comparaciones para entradas aleatorias, realizadas experimentalmente.\n",
        "* Cantidad de comparaciones realizadas por el algoritmo Kadane y el de \"divide y venceras\".\n",
        "* Comparación en el tiempo de ejecución del algoritmo Kadane y el de \"divide y venceras\".\n",
        "\n",
        "Para problemas con $n ∈ [5,60]$.\n",
        "\n",
        "Los arreglos de entrada son:\n",
        "\n",
        "* Casos aleatorios: Las secuencias serán arreglos de números entre el -100 y el 100, con $n$ cantidad de elementos."
      ],
      "metadata": {
        "id": "rjdCbv0LSyrV"
      }
    },
    {
      "cell_type": "code",
      "source": [
        "x=[n for n in range(5,60)] \n",
        "y1=[n* mt.log2(n) for n in range(5,60)] # caso promedio\n",
        "y2= []\n",
        "y=[];\n",
        "\n",
        "for n in range(5,60):\n",
        "  a = rd.sample(range(-100, 100), n)\n",
        "  a,sum,counter  = MaxSubArray(a)\n",
        "  y.append(counter)\n",
        "\n",
        "plt.plot(x,y)\n",
        "plt.plot(x,y1)\n",
        "plt.legend([\"MergeSort\", \"theoretical worst case\", \"theoretical best case\"])\n",
        "\n",
        "plt.xlabel('n')\n",
        "plt.ylabel('number of operations')\n",
        "plt.show()"
      ],
      "metadata": {
        "colab": {
          "base_uri": "https://localhost:8080/",
          "height": 279
        },
        "id": "VjHiNOPAW28D",
        "outputId": "dfe5f194-26c7-4e2f-a06c-42d2f058c8d9"
      },
      "execution_count": 43,
      "outputs": [
        {
          "output_type": "display_data",
          "data": {
            "text/plain": [
              "<Figure size 432x288 with 1 Axes>"
            ],
            "image/png": "[encoded data removed]"
          },
          "metadata": {
            "needs_background": "light"
          }
        }
      ]
    },
    {
      "cell_type": "markdown",
      "source": [
        "Como podemos apreciar en el grafico anterior, la complejidad temporal del caso promedio y el de los casos experimentales son exactamente identicos, por lo tanto podemos confirmar que la complejidad de nuestro algoritmo es de $O(nlogn)$."
      ],
      "metadata": {
        "id": "jL4ILEhJXjqh"
      }
    },
    {
      "cell_type": "markdown",
      "source": [
        "##Comparaciones entre la función Kadane y \"Divide y venceras\"\n",
        "\n",
        "Los arreglos de entrada serán una secuencia de números aleatorios ya que la función kadane tampoco tiene un mejor o peor caso debido a que siempre tendrá que recorrer todo el array para poder ubicar el sub-arreglo con la suma máxima de elemetos.\n",
        "\n",
        "##Codigo Kadane"
      ],
      "metadata": {
        "id": "AgX1jn4WX_VQ"
      }
    },
    {
      "cell_type": "code",
      "source": [
        "def kadane(lista):\n",
        "  sumMax = lista[0]\n",
        "  currentMax = lista[0]\n",
        "  auxI = 0\n",
        "  auxJ = 0\n",
        "  cont = 0\n",
        "\n",
        "  for i in range(0,len(lista)):\n",
        "    currentMax += lista[i]\n",
        "    cont += 1\n",
        "\n",
        "    if currentMax < lista[i]:\n",
        "      currentMax = lista[i] \n",
        "\n",
        "    if sumMax <= currentMax:\n",
        "      sumMax = currentMax\n",
        "\n",
        "  \n",
        "\n",
        "  return sumMax, cont"
      ],
      "metadata": {
        "id": "eSK70FunaGq1"
      },
      "execution_count": 74,
      "outputs": []
    }
  ]
}