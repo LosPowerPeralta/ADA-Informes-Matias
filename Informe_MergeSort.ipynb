{
  "nbformat": 4,
  "nbformat_minor": 0,
  "metadata": {
    "colab": {
      "name": "Informe-MergeSort.ipynb",
      "provenance": [],
      "collapsed_sections": [],
      "authorship_tag": "ABX9TyNLwHxEEkdAuVOqbYPEKrRj",
      "include_colab_link": true
    },
    "kernelspec": {
      "name": "python3",
      "display_name": "Python 3"
    },
    "language_info": {
      "name": "python"
    }
  },
  "cells": [
    {
      "cell_type": "markdown",
      "metadata": {
        "id": "view-in-github",
        "colab_type": "text"
      },
      "source": [
        "<a href=\"https://colab.research.google.com/github/LosPowerPeralta/ADA-Informes-Matias/blob/main/Informe_MergeSort.ipynb\" target=\"_parent\"><img src=\"https://colab.research.google.com/assets/colab-badge.svg\" alt=\"Open In Colab\"/></a>"
      ]
    },
    {
      "cell_type": "code",
      "source": [
        "import random \n",
        "import matplotlib.pyplot as plt\n",
        "import datetime\n",
        "from timeit import repeat\n",
        "from termcolor import colored\n",
        "cont = 0"
      ],
      "metadata": {
        "id": "dUTYinfgfEUy"
      },
      "execution_count": 112,
      "outputs": []
    },
    {
      "cell_type": "code",
      "source": [
        "def Merge(lista1, lista2):\n",
        "  global cont\n",
        "  i, j = 0, 0\n",
        "  resultante = []\n",
        "\n",
        "  while (i < len(lista1) and j < len(lista2)):\n",
        "    cont += 1\n",
        "    if lista1[i] < lista2[j]:\n",
        "      resultante.append(lista1[i])\n",
        "      i += 1 \n",
        "    else:\n",
        "      resultante.append(lista2[j])\n",
        "      j += 1\n",
        "\n",
        "  resultante += lista1[i:]\n",
        "  resultante += lista2[j:]\n",
        "\n",
        "  return resultante"
      ],
      "metadata": {
        "id": "KD949SivgL1F"
      },
      "execution_count": 99,
      "outputs": []
    },
    {
      "cell_type": "code",
      "execution_count": 109,
      "metadata": {
        "id": "zJ2ZcCaieg8D"
      },
      "outputs": [],
      "source": [
        "def MergeSort(lista):\n",
        "  global cont\n",
        "  if (len(lista) == 1): return lista\n",
        "\n",
        "  q = len(lista) // 2\n",
        "  cont += 1\n",
        "  listaD = MergeSort(lista[:q])\n",
        "  cont += 1\n",
        "  listaI = MergeSort(lista[q:])\n",
        "  return Merge(listaD, listaI)"
      ]
    },
    {
      "cell_type": "code",
      "source": [
        "A = [9,5,3,4,2,1]\n",
        "\n",
        "A = MergeSort(A)\n",
        "\n",
        "print(A)\n",
        "print(cont)"
      ],
      "metadata": {
        "colab": {
          "base_uri": "https://localhost:8080/"
        },
        "id": "YV8pnqiPjPSw",
        "outputId": "0be1d093-3086-4681-ffad-d90ef1c4feb8"
      },
      "execution_count": 113,
      "outputs": [
        {
          "output_type": "stream",
          "name": "stdout",
          "text": [
            "[1, 2, 3, 4, 5, 9]\n",
            "20\n"
          ]
        }
      ]
    }
  ]
}