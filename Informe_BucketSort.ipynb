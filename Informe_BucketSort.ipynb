{
  "nbformat": 4,
  "nbformat_minor": 0,
  "metadata": {
    "colab": {
      "provenance": [],
      "collapsed_sections": [],
      "authorship_tag": "ABX9TyMxXFNMw/oELxQ17L5W2ZyK",
      "include_colab_link": true
    },
    "kernelspec": {
      "name": "python3",
      "display_name": "Python 3"
    },
    "language_info": {
      "name": "python"
    }
  },
  "cells": [
    {
      "cell_type": "markdown",
      "metadata": {
        "id": "view-in-github",
        "colab_type": "text"
      },
      "source": [
        "<a href=\"https://colab.research.google.com/github/LosPowerPeralta/ADA-Informes-Matias/blob/main/Informe_BucketSort.ipynb\" target=\"_parent\"><img src=\"https://colab.research.google.com/assets/colab-badge.svg\" alt=\"Open In Colab\"/></a>"
      ]
    },
    {
      "cell_type": "markdown",
      "source": [
        "#1. Problema de ordenamiento\n",
        "\n",
        "Los problemas de ordenamiento desde hace mucho tiempo llevan siendo un desafío para los programadores ya que siempre se intenta buscar algún algoritmo el cual pueda resolverlos de la forma más rápida posible con el menor tiempo.\n",
        "\n",
        "Por esta misma razón se decidió inventar un nuevo método de ordenamiento conocido como BucketSort.\n",
        "\n",
        "Entrada: una secuencia de n números $[a_1, a_2,...,a_n]$\n",
        "\n",
        "Salida: Retorna una secuencia de n números ordenada de menor a mayor donde $a'_1 \\leq a'_2 \\leq ... \\leq a'_n$."
      ],
      "metadata": {
        "id": "nPWU0gbh7L0T"
      }
    },
    {
      "cell_type": "markdown",
      "source": [
        "#2. BucketSort\n",
        "\n",
        "##2.1. Descripción del algoritmo\n",
        "\n",
        "El algoritmo BucketSort consiste en generar una matriz de largo $n$ $x$ $m$, donde $n$ viene siendo el largo del arreglo de entrada y $m$ corresponde a la cantidad de datos que irán guardados en cada sub-array, los cuales tendrán un rango en especifico para que a través de una operación matemática los datos se posicionen en cada sub-arreglo sin realizar comparaciones, el proposito de esto es diminuir el tamaño de entrada de nuestros arreglos para que la función de ordenamiento auxiliar (en nuestro caso el InsertionSort) no realice tantos procesos a la hora de ordenar la lista de entrada."
      ],
      "metadata": {
        "id": "i4ryGdpUE8t5"
      }
    },
    {
      "cell_type": "markdown",
      "source": [
        "![image.png](data:image/png;base64,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)"
      ],
      "metadata": {
        "id": "vLrVOpyCssI3"
      }
    },
    {
      "cell_type": "markdown",
      "source": [
        "##2.2. Código"
      ],
      "metadata": {
        "id": "Yo-STiSksoC2"
      }
    },
    {
      "cell_type": "code",
      "source": [
        "#Librerias a utilizar\n",
        "import random as rd\n",
        "import matplotlib.pyplot as plt\n",
        "import datetime\n",
        "import math as mt\n",
        "from timeit import repeat\n",
        "from termcolor import colored"
      ],
      "metadata": {
        "id": "lsQiPPumcSW0"
      },
      "execution_count": null,
      "outputs": []
    },
    {
      "cell_type": "code",
      "source": [
        "def mostrarBuckets(buckets):\n",
        "    print(\"Buckets resultantes:\")\n",
        "    for i in range(0, len(buckets)):\n",
        "        print(colored(f\"{buckets[i]}\", \"red\"))"
      ],
      "metadata": {
        "id": "_Oat4v-Yq-fN"
      },
      "execution_count": null,
      "outputs": []
    },
    {
      "cell_type": "code",
      "source": [
        "def InsertionSort(bucket, verbose):\n",
        "    if verbose:\n",
        "        print(\"Función\", colored(f\"InsertionSort\", \"yellow\"))\n",
        "        print(\"Entrada:\", colored(f\"{str(bucket)}\", \"blue\"))\n",
        "\n",
        "    for i in range (1, len (bucket)):\n",
        "        var = bucket[i]\n",
        "        j = i - 1\n",
        "        while (j >= 0 and var < bucket[j]):\n",
        "            bucket[j + 1] = bucket[j]\n",
        "            j = j - 1\n",
        "        bucket[j + 1] = var\n",
        "\n",
        "    if verbose:\n",
        "        print(\"Salida:\", colored(f\"{str(bucket)}\", \"yellow\"), \"\\n\")"
      ],
      "metadata": {
        "id": "LI_A8QR90Lj7"
      },
      "execution_count": null,
      "outputs": []
    },
    {
      "cell_type": "code",
      "execution_count": null,
      "metadata": {
        "id": "WmOxoDysscMv"
      },
      "outputs": [],
      "source": [
        "def BucketSort(input_list, verbose= False):\n",
        "    if verbose:\n",
        "        print(\"Función\", colored(f\"BucketSort\", \"yellow\"), \"\\n\")\n",
        "        print(\"Entrada:\", colored(f\"{str(input_list)}\", \"blue\"))\n",
        "\n",
        "    buckets_list = []\n",
        "    max_value = max(input_list)\n",
        "    size = max_value/len(input_list)\n",
        "\n",
        "    if verbose:\n",
        "        print(\"Se busca el mayor valor del arreglo...\")\n",
        "        print(\"El valor es:\", colored(f\"{max_value}\", \"blue\"), \"\\n\")\n",
        "        #print(\"Largo de los buckets:\", colored(f\"{size}\", \"blue\"), \"\\n\")\n",
        "\n",
        "    if verbose:\n",
        "        print(\"Se generan los buckets necesarios...\\n\")\n",
        "    for x in range(len(input_list)):\n",
        "        buckets_list.append([]) \n",
        "\n",
        "    for i in range(len(input_list)):\n",
        "        j = int(input_list[i] / size)\n",
        "        if j != len(input_list):\n",
        "            if verbose:\n",
        "                print(\"Se ubica el dato\", colored(f\"{input_list[i]}\", \"red\"), \"en el bucket con posición i =\", colored(f\"{j}\", \"blue\"), \"y j =\", colored(f\"{len(buckets_list[j])}\", \"blue\"))\n",
        "            buckets_list[j].append(input_list[i])\n",
        "        else:\n",
        "            if verbose:\n",
        "                print(\"Se ubica el dato\", colored(f\"{input_list[i]}\", \"red\"), \"en el bucket con posición i =\", colored(f\"{j}\", \"blue\"), \"y j =\", colored(f\"{len(buckets_list[len(input_list) - 1])}\", \"blue\"))\n",
        "            buckets_list[len(input_list) - 1].append(input_list[i])\n",
        "            \n",
        "    if verbose:\n",
        "        print(\"\")\n",
        "        mostrarBuckets(buckets_list)\n",
        "        print(\"Ordenando Buckets...\\n\")\n",
        "    for z in range(len(input_list)):\n",
        "        InsertionSort(buckets_list[z], verbose)\n",
        "\n",
        "    if verbose:\n",
        "        print(\"Uniendo Buckets ordenados...\")\n",
        "\n",
        "    final_output = []\n",
        "    for x in range(len(input_list)):\n",
        "        final_output = final_output + buckets_list[x]\n",
        "\n",
        "    if verbose:\n",
        "        print(\"Salida:\", colored(f\"{final_output}\", \"yellow\"))\n",
        "        \n",
        "    return final_output"
      ]
    },
    {
      "cell_type": "markdown",
      "source": [
        "##2.3. Ejemplo\n",
        "\n",
        "Empezamos considerando el siguiente arreglo.\n",
        "\n",
        "$A=[2,5,1,8,4]$\n",
        "\n",
        "Lo primero que realizará el algoritmo será generar la cantidad de buckets que necesitemos las cuales tendrán la misma cantidad al largo de nuestro arreglo.\n",
        "\n",
        "$buckets = [[],[],[],[],[]]$\n",
        "\n",
        "Una vez que ya tenemos los buckets toca posicionar cada dato de nuestro arreglo original dentro de ellos, cada bucket contiene un $rango = \\frac{maxValue}{largeArray} \\cdot i$, donde $i$ viene siendo el bucket donde nos encontramos. En nuestro caso el rango de cada bucket va de $[[0,1.6],]1.6,3.2],]3.2,4.8],]4.8,6.4],]6.4,8]]$, con todo esto definido nuestro algorimo tomará cada valor de nuestro arreglo, lo dividirá por el rango y luego lo colocará en el bucket correspondiente.\n",
        "\n",
        "$pos = \\frac{A[0]}{rango}$, osea $\\frac{2}{1.6} ≈ 1.25$, el valor truncado $= 1$\n",
        "\n",
        "$buckets = [[],[2],[],[],[]]$\n",
        "\n",
        "$pos = \\frac{A[1]}{rango}$, osea $\\frac{5}{1.6}≈ 3.12$, el valor truncado $= 3$\n",
        "\n",
        "$buckets = [[],[2],[5],[],[]]$\n",
        "\n",
        "$pos = \\frac{A[2]}{rango}$, osea $\\frac{1}{1.6}≈ 0.62$, el valor truncado $= 0$\n",
        "\n",
        "$buckets = [[1],[2],[],[5],[]]$\n",
        "\n",
        "$pos = \\frac{A[3]}{rango}$, osea $\\frac{8}{1.6} = 5$\n",
        "\n",
        "$buckets = [[1],[2],[],[5],[8]]$\n",
        "\n",
        "$pos = \\frac{A[4]}{rango}$, osea $\\frac{4}{1.6}≈ 2.5$, el valor truncado $= 2$\n",
        "\n",
        "$buckets = [[1],[2],[4],[5],[8]]$\n",
        "\n",
        "Una vez que están posicionadas todos los valores del arreglo dentro de los buckets se empiezan a ordenar cada uno de ellos con la función InsertioSort. En nuestro caso todos los arreglos son de largo 1, por lo tanto el InsertionSort asumirá que cada uno está ordenado.\n",
        "\n",
        "Para finalizar el algoritmo BucketSort une cada uno de los buckets desde el primero hasta el último.\n",
        "\n",
        "Array resultante $A = [1,2,5,4,8]$"
      ],
      "metadata": {
        "id": "tUgLim09yc2u"
      }
    },
    {
      "cell_type": "markdown",
      "source": [
        "##2.4. Ejecución del algoritmo paso a paso (Verbose = True)"
      ],
      "metadata": {
        "id": "Ng-GDTtSBbBz"
      }
    },
    {
      "cell_type": "code",
      "source": [
        "A=[2,5,1,8,4] \n",
        "A = BucketSort(A, True)\n",
        "print(A)"
      ],
      "metadata": {
        "id": "tPZTd6wcUr5H",
        "colab": {
          "base_uri": "https://localhost:8080/"
        },
        "outputId": "33128b6d-a8c7-4029-c04d-3cb418faa57f"
      },
      "execution_count": null,
      "outputs": [
        {
          "output_type": "stream",
          "name": "stdout",
          "text": [
            "Función \u001b[33mBucketSort\u001b[0m \n",
            "\n",
            "Entrada: \u001b[34m[2, 5, 1, 8, 4]\u001b[0m\n",
            "Se busca el mayor valor del arreglo...\n",
            "El valor es: \u001b[34m8\u001b[0m \n",
            "\n",
            "Se generan los buckets necesarios...\n",
            "\n",
            "Se ubica el dato \u001b[31m2\u001b[0m en el bucket con posición i = \u001b[34m1\u001b[0m y j = \u001b[34m0\u001b[0m\n",
            "Se ubica el dato \u001b[31m5\u001b[0m en el bucket con posición i = \u001b[34m3\u001b[0m y j = \u001b[34m0\u001b[0m\n",
            "Se ubica el dato \u001b[31m1\u001b[0m en el bucket con posición i = \u001b[34m0\u001b[0m y j = \u001b[34m0\u001b[0m\n",
            "Se ubica el dato \u001b[31m8\u001b[0m en el bucket con posición i = \u001b[34m5\u001b[0m y j = \u001b[34m0\u001b[0m\n",
            "Se ubica el dato \u001b[31m4\u001b[0m en el bucket con posición i = \u001b[34m2\u001b[0m y j = \u001b[34m0\u001b[0m\n",
            "\n",
            "Buckets resultantes:\n",
            "\u001b[31m[1]\u001b[0m\n",
            "\u001b[31m[2]\u001b[0m\n",
            "\u001b[31m[4]\u001b[0m\n",
            "\u001b[31m[5]\u001b[0m\n",
            "\u001b[31m[8]\u001b[0m\n",
            "Ordenando Buckets...\n",
            "\n",
            "Función \u001b[33mInsertionSort\u001b[0m\n",
            "Entrada: \u001b[34m[1]\u001b[0m\n",
            "Salida: \u001b[33m[1]\u001b[0m \n",
            "\n",
            "Función \u001b[33mInsertionSort\u001b[0m\n",
            "Entrada: \u001b[34m[2]\u001b[0m\n",
            "Salida: \u001b[33m[2]\u001b[0m \n",
            "\n",
            "Función \u001b[33mInsertionSort\u001b[0m\n",
            "Entrada: \u001b[34m[4]\u001b[0m\n",
            "Salida: \u001b[33m[4]\u001b[0m \n",
            "\n",
            "Función \u001b[33mInsertionSort\u001b[0m\n",
            "Entrada: \u001b[34m[5]\u001b[0m\n",
            "Salida: \u001b[33m[5]\u001b[0m \n",
            "\n",
            "Función \u001b[33mInsertionSort\u001b[0m\n",
            "Entrada: \u001b[34m[8]\u001b[0m\n",
            "Salida: \u001b[33m[8]\u001b[0m \n",
            "\n",
            "Uniendo Buckets ordenados...\n",
            "Salida: \u001b[33m[1, 2, 4, 5, 8]\u001b[0m\n",
            "[1, 2, 4, 5, 8]\n"
          ]
        }
      ]
    },
    {
      "cell_type": "markdown",
      "source": [
        "#3. Tiempo de ejecución\n",
        "\n",
        "##Teorema (Tiempo de ejecución).\n",
        "\n",
        "El tiempo de ejecución del BucketSort en el mejor caso tiene una complejidad de $O(n)$, en el caso promedio $O(n + k)$ donde $k$ viene siendo la complejidad del algoritmo auxiliar y en el peor caso su complejidad es de $O(k)$.\n",
        "\n",
        "##Prueba del teorema\n",
        "\n",
        "**Analisis del peor caso**\n",
        "\n",
        "Observando nuestro código podemos visualizar como el peor caso de este, viene siendo cuando la gran parte de nuestros elementos queda almacenado en 1 solo bucket de todos los disponibles, para lograr esto, el mayor dato del array debe tener una gran diferencia con el segundo más grande, como por ejemplo el siguiente arreglo.\n",
        "\n",
        "$A = [1,4,2,8,5,3,1000]$"
      ],
      "metadata": {
        "id": "uabhgbI_B1ar"
      }
    },
    {
      "cell_type": "code",
      "source": [
        "A = [1,4,2,8,5,3,1000]\n",
        "\n",
        "A = BucketSort(A, True)"
      ],
      "metadata": {
        "colab": {
          "base_uri": "https://localhost:8080/"
        },
        "id": "uLA_x74xOBxj",
        "outputId": "366f6aca-6b2f-4f4e-dea8-a2efc1d4b8aa"
      },
      "execution_count": null,
      "outputs": [
        {
          "output_type": "stream",
          "name": "stdout",
          "text": [
            "Función \u001b[33mBucketSort\u001b[0m \n",
            "\n",
            "Entrada: \u001b[34m[1, 4, 2, 8, 5, 3, 1000]\u001b[0m\n",
            "Se busca el mayor valor del arreglo...\n",
            "El valor es: \u001b[34m1000\u001b[0m \n",
            "\n",
            "Se generan los buckets necesarios...\n",
            "\n",
            "Se ubica el dato \u001b[31m1\u001b[0m en el bucket con posición i = \u001b[34m0\u001b[0m y j = \u001b[34m0\u001b[0m\n",
            "Se ubica el dato \u001b[31m4\u001b[0m en el bucket con posición i = \u001b[34m0\u001b[0m y j = \u001b[34m1\u001b[0m\n",
            "Se ubica el dato \u001b[31m2\u001b[0m en el bucket con posición i = \u001b[34m0\u001b[0m y j = \u001b[34m2\u001b[0m\n",
            "Se ubica el dato \u001b[31m8\u001b[0m en el bucket con posición i = \u001b[34m0\u001b[0m y j = \u001b[34m3\u001b[0m\n",
            "Se ubica el dato \u001b[31m5\u001b[0m en el bucket con posición i = \u001b[34m0\u001b[0m y j = \u001b[34m4\u001b[0m\n",
            "Se ubica el dato \u001b[31m3\u001b[0m en el bucket con posición i = \u001b[34m0\u001b[0m y j = \u001b[34m5\u001b[0m\n",
            "Se ubica el dato \u001b[31m1000\u001b[0m en el bucket con posición i = \u001b[34m7\u001b[0m y j = \u001b[34m0\u001b[0m\n",
            "\n",
            "Buckets resultantes:\n",
            "\u001b[31m[1, 4, 2, 8, 5, 3]\u001b[0m\n",
            "\u001b[31m[]\u001b[0m\n",
            "\u001b[31m[]\u001b[0m\n",
            "\u001b[31m[]\u001b[0m\n",
            "\u001b[31m[]\u001b[0m\n",
            "\u001b[31m[]\u001b[0m\n",
            "\u001b[31m[1000]\u001b[0m\n",
            "Ordenando Buckets...\n",
            "\n",
            "Función \u001b[33mInsertionSort\u001b[0m\n",
            "Entrada: \u001b[34m[1, 4, 2, 8, 5, 3]\u001b[0m\n",
            "Salida: \u001b[33m[1, 2, 3, 4, 5, 8]\u001b[0m \n",
            "\n",
            "Función \u001b[33mInsertionSort\u001b[0m\n",
            "Entrada: \u001b[34m[]\u001b[0m\n",
            "Salida: \u001b[33m[]\u001b[0m \n",
            "\n",
            "Función \u001b[33mInsertionSort\u001b[0m\n",
            "Entrada: \u001b[34m[]\u001b[0m\n",
            "Salida: \u001b[33m[]\u001b[0m \n",
            "\n",
            "Función \u001b[33mInsertionSort\u001b[0m\n",
            "Entrada: \u001b[34m[]\u001b[0m\n",
            "Salida: \u001b[33m[]\u001b[0m \n",
            "\n",
            "Función \u001b[33mInsertionSort\u001b[0m\n",
            "Entrada: \u001b[34m[]\u001b[0m\n",
            "Salida: \u001b[33m[]\u001b[0m \n",
            "\n",
            "Función \u001b[33mInsertionSort\u001b[0m\n",
            "Entrada: \u001b[34m[]\u001b[0m\n",
            "Salida: \u001b[33m[]\u001b[0m \n",
            "\n",
            "Función \u001b[33mInsertionSort\u001b[0m\n",
            "Entrada: \u001b[34m[1000]\u001b[0m\n",
            "Salida: \u001b[33m[1000]\u001b[0m \n",
            "\n",
            "Uniendo Buckets ordenados...\n",
            "Salida: \u001b[33m[1, 2, 3, 4, 5, 8, 1000]\u001b[0m\n"
          ]
        }
      ]
    },
    {
      "cell_type": "markdown",
      "source": [
        "Como podemos apreciar gracias al verbose, todos datos menores al mayor quedan almacenado en un solo bucket, lo que provoca que el peor caso dependa unicamente del algoritmo de ordenamiento implementado ya que la idea de dividir por buckets no está cumpliendo su función, generando un complejidad de $O(k)$, en nuestro caso es de $O(n^2)$ por tener implementado el InsertionSort."
      ],
      "metadata": {
        "id": "oGDAShivO3fT"
      }
    },
    {
      "cell_type": "markdown",
      "source": [
        "**Analisis del mejor caso**\n",
        "\n",
        "El mejor caso ocurre cuando cada elemento de nuestro arreglo queda almacenado en su bucket correspondiente, esto ocurre cuando tenemos un arreglo de $n$ elementos los cuales sus datos vienen siendo los siguientes: $1,2,3,...,n-2,n$.\n",
        "\n",
        "$A = [5,4,6,2,1,3]$\n"
      ],
      "metadata": {
        "id": "NoDtHSMxRHaw"
      }
    },
    {
      "cell_type": "code",
      "source": [
        "A = [5,4,7,2,1,3,6,8,10]\n",
        "\n",
        "A = BucketSort(A, True)"
      ],
      "metadata": {
        "colab": {
          "base_uri": "https://localhost:8080/"
        },
        "id": "Oi7aVFwqTSAC",
        "outputId": "0c15f6c5-0751-47dd-9a09-70dc412c5451"
      },
      "execution_count": null,
      "outputs": [
        {
          "output_type": "stream",
          "name": "stdout",
          "text": [
            "Función \u001b[33mBucketSort\u001b[0m \n",
            "\n",
            "Entrada: \u001b[34m[5, 4, 7, 2, 1, 3, 6, 8, 10]\u001b[0m\n",
            "Se busca el mayor valor del arreglo...\n",
            "El valor es: \u001b[34m10\u001b[0m \n",
            "\n",
            "Se generan los buckets necesarios...\n",
            "\n",
            "Se ubica el dato \u001b[31m5\u001b[0m en el bucket con posición i = \u001b[34m4\u001b[0m y j = \u001b[34m0\u001b[0m\n",
            "Se ubica el dato \u001b[31m4\u001b[0m en el bucket con posición i = \u001b[34m3\u001b[0m y j = \u001b[34m0\u001b[0m\n",
            "Se ubica el dato \u001b[31m7\u001b[0m en el bucket con posición i = \u001b[34m6\u001b[0m y j = \u001b[34m0\u001b[0m\n",
            "Se ubica el dato \u001b[31m2\u001b[0m en el bucket con posición i = \u001b[34m1\u001b[0m y j = \u001b[34m0\u001b[0m\n",
            "Se ubica el dato \u001b[31m1\u001b[0m en el bucket con posición i = \u001b[34m0\u001b[0m y j = \u001b[34m0\u001b[0m\n",
            "Se ubica el dato \u001b[31m3\u001b[0m en el bucket con posición i = \u001b[34m2\u001b[0m y j = \u001b[34m0\u001b[0m\n",
            "Se ubica el dato \u001b[31m6\u001b[0m en el bucket con posición i = \u001b[34m5\u001b[0m y j = \u001b[34m0\u001b[0m\n",
            "Se ubica el dato \u001b[31m8\u001b[0m en el bucket con posición i = \u001b[34m7\u001b[0m y j = \u001b[34m0\u001b[0m\n",
            "Se ubica el dato \u001b[31m10\u001b[0m en el bucket con posición i = \u001b[34m9\u001b[0m y j = \u001b[34m0\u001b[0m\n",
            "\n",
            "Buckets resultantes:\n",
            "\u001b[31m[1]\u001b[0m\n",
            "\u001b[31m[2]\u001b[0m\n",
            "\u001b[31m[3]\u001b[0m\n",
            "\u001b[31m[4]\u001b[0m\n",
            "\u001b[31m[5]\u001b[0m\n",
            "\u001b[31m[6]\u001b[0m\n",
            "\u001b[31m[7]\u001b[0m\n",
            "\u001b[31m[8]\u001b[0m\n",
            "\u001b[31m[10]\u001b[0m\n",
            "Ordenando Buckets...\n",
            "\n",
            "Función \u001b[33mInsertionSort\u001b[0m\n",
            "Entrada: \u001b[34m[1]\u001b[0m\n",
            "Salida: \u001b[33m[1]\u001b[0m \n",
            "\n",
            "Función \u001b[33mInsertionSort\u001b[0m\n",
            "Entrada: \u001b[34m[2]\u001b[0m\n",
            "Salida: \u001b[33m[2]\u001b[0m \n",
            "\n",
            "Función \u001b[33mInsertionSort\u001b[0m\n",
            "Entrada: \u001b[34m[3]\u001b[0m\n",
            "Salida: \u001b[33m[3]\u001b[0m \n",
            "\n",
            "Función \u001b[33mInsertionSort\u001b[0m\n",
            "Entrada: \u001b[34m[4]\u001b[0m\n",
            "Salida: \u001b[33m[4]\u001b[0m \n",
            "\n",
            "Función \u001b[33mInsertionSort\u001b[0m\n",
            "Entrada: \u001b[34m[5]\u001b[0m\n",
            "Salida: \u001b[33m[5]\u001b[0m \n",
            "\n",
            "Función \u001b[33mInsertionSort\u001b[0m\n",
            "Entrada: \u001b[34m[6]\u001b[0m\n",
            "Salida: \u001b[33m[6]\u001b[0m \n",
            "\n",
            "Función \u001b[33mInsertionSort\u001b[0m\n",
            "Entrada: \u001b[34m[7]\u001b[0m\n",
            "Salida: \u001b[33m[7]\u001b[0m \n",
            "\n",
            "Función \u001b[33mInsertionSort\u001b[0m\n",
            "Entrada: \u001b[34m[8]\u001b[0m\n",
            "Salida: \u001b[33m[8]\u001b[0m \n",
            "\n",
            "Función \u001b[33mInsertionSort\u001b[0m\n",
            "Entrada: \u001b[34m[10]\u001b[0m\n",
            "Salida: \u001b[33m[10]\u001b[0m \n",
            "\n",
            "Uniendo Buckets ordenados...\n",
            "Salida: \u001b[33m[1, 2, 3, 4, 5, 6, 7, 8, 10]\u001b[0m\n"
          ]
        }
      ]
    },
    {
      "cell_type": "markdown",
      "source": [
        "Con la ayuda del verbose podemos verificar que el mejor caso viene siendo el dicho anteriormente, considerando que solo el BucketSort tienen una complejidad de $O(n)$ al insertar los elementos dentro de los buckets, al intentar ordenar los buckets de largo 1, el algoritmo de ordenamiento asume directamente que el array se encuentra ordenado, teniendo así una complejidad de $O(1)$, esto provoca que la complejidad temporal de la función BucketSort en su mejor caso sea de $O(n)$."
      ],
      "metadata": {
        "id": "9BdfVmpUWwRA"
      }
    },
    {
      "cell_type": "markdown",
      "source": [
        "**Analisis del caso promedio**\n",
        "\n",
        "Este último caso ocurre cuando todos los datos de nuestro arreglo se encuentran distribuidos uniformemente dentro los buckets, como por ejemplo.\n",
        "\n",
        "$A = [1,2,3,5,6,7,10,12,15]$"
      ],
      "metadata": {
        "id": "bLoYbZtzXwai"
      }
    },
    {
      "cell_type": "code",
      "source": [
        "A = [1.5,1.6,2.1,2.3,2.4,3.4,5.1,6,3.1,1.51,1.61,1.9,1.923]\n",
        "\n",
        "A = BucketSort(A, True)"
      ],
      "metadata": {
        "colab": {
          "base_uri": "https://localhost:8080/"
        },
        "id": "QeneTckdd8Ic",
        "outputId": "452d5a12-4b25-47d8-c9fd-69ad40263cfb"
      },
      "execution_count": null,
      "outputs": [
        {
          "output_type": "stream",
          "name": "stdout",
          "text": [
            "Función \u001b[33mBucketSort\u001b[0m \n",
            "\n",
            "Entrada: \u001b[34m[1.5, 1.6, 2.1, 2.3, 2.4, 3.4, 5.1, 6, 3.1, 1.51, 1.61, 1.9, 1.923]\u001b[0m\n",
            "Se busca el mayor valor del arreglo...\n",
            "El valor es: \u001b[34m6\u001b[0m \n",
            "\n",
            "Se generan los buckets necesarios...\n",
            "\n",
            "Se ubica el dato \u001b[31m1.5\u001b[0m en el bucket con posición i = \u001b[34m3\u001b[0m y j = \u001b[34m0\u001b[0m\n",
            "Se ubica el dato \u001b[31m1.6\u001b[0m en el bucket con posición i = \u001b[34m3\u001b[0m y j = \u001b[34m1\u001b[0m\n",
            "Se ubica el dato \u001b[31m2.1\u001b[0m en el bucket con posición i = \u001b[34m4\u001b[0m y j = \u001b[34m0\u001b[0m\n",
            "Se ubica el dato \u001b[31m2.3\u001b[0m en el bucket con posición i = \u001b[34m4\u001b[0m y j = \u001b[34m1\u001b[0m\n",
            "Se ubica el dato \u001b[31m2.4\u001b[0m en el bucket con posición i = \u001b[34m5\u001b[0m y j = \u001b[34m0\u001b[0m\n",
            "Se ubica el dato \u001b[31m3.4\u001b[0m en el bucket con posición i = \u001b[34m7\u001b[0m y j = \u001b[34m0\u001b[0m\n",
            "Se ubica el dato \u001b[31m5.1\u001b[0m en el bucket con posición i = \u001b[34m11\u001b[0m y j = \u001b[34m0\u001b[0m\n",
            "Se ubica el dato \u001b[31m6\u001b[0m en el bucket con posición i = \u001b[34m13\u001b[0m y j = \u001b[34m0\u001b[0m\n",
            "Se ubica el dato \u001b[31m3.1\u001b[0m en el bucket con posición i = \u001b[34m6\u001b[0m y j = \u001b[34m0\u001b[0m\n",
            "Se ubica el dato \u001b[31m1.51\u001b[0m en el bucket con posición i = \u001b[34m3\u001b[0m y j = \u001b[34m2\u001b[0m\n",
            "Se ubica el dato \u001b[31m1.61\u001b[0m en el bucket con posición i = \u001b[34m3\u001b[0m y j = \u001b[34m3\u001b[0m\n",
            "Se ubica el dato \u001b[31m1.9\u001b[0m en el bucket con posición i = \u001b[34m4\u001b[0m y j = \u001b[34m2\u001b[0m\n",
            "Se ubica el dato \u001b[31m1.923\u001b[0m en el bucket con posición i = \u001b[34m4\u001b[0m y j = \u001b[34m3\u001b[0m\n",
            "\n",
            "Buckets resultantes:\n",
            "\u001b[31m[]\u001b[0m\n",
            "\u001b[31m[]\u001b[0m\n",
            "\u001b[31m[]\u001b[0m\n",
            "\u001b[31m[1.5, 1.6, 1.51, 1.61]\u001b[0m\n",
            "\u001b[31m[2.1, 2.3, 1.9, 1.923]\u001b[0m\n",
            "\u001b[31m[2.4]\u001b[0m\n",
            "\u001b[31m[3.1]\u001b[0m\n",
            "\u001b[31m[3.4]\u001b[0m\n",
            "\u001b[31m[]\u001b[0m\n",
            "\u001b[31m[]\u001b[0m\n",
            "\u001b[31m[]\u001b[0m\n",
            "\u001b[31m[5.1]\u001b[0m\n",
            "\u001b[31m[6]\u001b[0m\n",
            "Ordenando Buckets...\n",
            "\n",
            "Función \u001b[33mInsertionSort\u001b[0m\n",
            "Entrada: \u001b[34m[]\u001b[0m\n",
            "Salida: \u001b[33m[]\u001b[0m \n",
            "\n",
            "Función \u001b[33mInsertionSort\u001b[0m\n",
            "Entrada: \u001b[34m[]\u001b[0m\n",
            "Salida: \u001b[33m[]\u001b[0m \n",
            "\n",
            "Función \u001b[33mInsertionSort\u001b[0m\n",
            "Entrada: \u001b[34m[]\u001b[0m\n",
            "Salida: \u001b[33m[]\u001b[0m \n",
            "\n",
            "Función \u001b[33mInsertionSort\u001b[0m\n",
            "Entrada: \u001b[34m[1.5, 1.6, 1.51, 1.61]\u001b[0m\n",
            "Salida: \u001b[33m[1.5, 1.51, 1.6, 1.61]\u001b[0m \n",
            "\n",
            "Función \u001b[33mInsertionSort\u001b[0m\n",
            "Entrada: \u001b[34m[2.1, 2.3, 1.9, 1.923]\u001b[0m\n",
            "Salida: \u001b[33m[1.9, 1.923, 2.1, 2.3]\u001b[0m \n",
            "\n",
            "Función \u001b[33mInsertionSort\u001b[0m\n",
            "Entrada: \u001b[34m[2.4]\u001b[0m\n",
            "Salida: \u001b[33m[2.4]\u001b[0m \n",
            "\n",
            "Función \u001b[33mInsertionSort\u001b[0m\n",
            "Entrada: \u001b[34m[3.1]\u001b[0m\n",
            "Salida: \u001b[33m[3.1]\u001b[0m \n",
            "\n",
            "Función \u001b[33mInsertionSort\u001b[0m\n",
            "Entrada: \u001b[34m[3.4]\u001b[0m\n",
            "Salida: \u001b[33m[3.4]\u001b[0m \n",
            "\n",
            "Función \u001b[33mInsertionSort\u001b[0m\n",
            "Entrada: \u001b[34m[]\u001b[0m\n",
            "Salida: \u001b[33m[]\u001b[0m \n",
            "\n",
            "Función \u001b[33mInsertionSort\u001b[0m\n",
            "Entrada: \u001b[34m[]\u001b[0m\n",
            "Salida: \u001b[33m[]\u001b[0m \n",
            "\n",
            "Función \u001b[33mInsertionSort\u001b[0m\n",
            "Entrada: \u001b[34m[]\u001b[0m\n",
            "Salida: \u001b[33m[]\u001b[0m \n",
            "\n",
            "Función \u001b[33mInsertionSort\u001b[0m\n",
            "Entrada: \u001b[34m[5.1]\u001b[0m\n",
            "Salida: \u001b[33m[5.1]\u001b[0m \n",
            "\n",
            "Función \u001b[33mInsertionSort\u001b[0m\n",
            "Entrada: \u001b[34m[6]\u001b[0m\n",
            "Salida: \u001b[33m[6]\u001b[0m \n",
            "\n",
            "Uniendo Buckets ordenados...\n",
            "Salida: \u001b[33m[1.5, 1.51, 1.6, 1.61, 1.9, 1.923, 2.1, 2.3, 2.4, 3.1, 3.4, 5.1, 6]\u001b[0m\n"
          ]
        }
      ]
    },
    {
      "cell_type": "markdown",
      "source": [
        "Como podemos apreciar con el verbose, tenemos arreglos los cuales contienen datos y algunos no, esto provoca que al ordenar cada bucket la complejidad temporal dependa del caso promedio del método de ordenamiento auxiliar $O(n + k)$."
      ],
      "metadata": {
        "id": "PYozM1qyfQUC"
      }
    },
    {
      "cell_type": "markdown",
      "source": [
        "#4. Prueba de Correctitud\n",
        "\n",
        "**Teorema de (Correctitud)**\n",
        "\n",
        "El algoritmo BucketSort recibe una secuencia de $n$ números $[a_1,a_2,...,a_n]$ y retorna una la misma secuancia de números ordenados de menor a mayor: $a'_1 \\leq a'_2 \\leq ... \\leq a'_n$.\n",
        "\n",
        "##Prueba del teorema (Función InsertionSort)\n",
        "\n",
        "Previamente observamos que la función del algoritmo es agregar un nuevo elemento ordenado al principio del arreglo.\n",
        "\n",
        "Por lo que podemos probar la siguiente propiedad de bucle invariante de bucle para el `Insertion Sort`:\n",
        "\n",
        ">Al comienzo de cada iteración del bucle, los primeros elementos del arreglo siempre estarán ordenados de menor a mayor.\n",
        "\n",
        "**Inicialización**\n",
        "\n",
        "Al comienzo de la primera iteración del bucle (i = 1), los primeros i elementos cumplen la propiedad ya que hasta el momento no se han revisado las siguientes posiciones del arreglo.\n",
        "\n",
        "**Mantención**\n",
        "\n",
        "Empezamos considerando que al principio de cada iteración i los primeros elementos del arreglo se encuetran ordenados de menor a mayor (desde $0$ hasta $i-1$). En este punto cosideraremos a $X$ como menor elemento del arreglo (como se muestra en la figura)."
      ],
      "metadata": {
        "id": "4H7qe4qzi-sS"
      }
    },
    {
      "cell_type": "markdown",
      "source": [
        "![image.png](data:image/png;base64,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)"
      ],
      "metadata": {
        "id": "PEUnKvA05N7N"
      }
    },
    {
      "cell_type": "markdown",
      "source": [
        "Durante el recorrido del Insertion Sort, $x$ se irá intercambiado con los elementos anteriores hasta llegar a la posición correcta ya que los datos anteriores son menores que el. "
      ],
      "metadata": {
        "id": "lWqul4id5QyL"
      }
    },
    {
      "cell_type": "markdown",
      "source": [
        "![image.png](data:image/png;base64,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)"
      ],
      "metadata": {
        "id": "0MTNCgId5T0J"
      }
    },
    {
      "cell_type": "markdown",
      "source": [
        "Al finalizar la iteración (y al comienzo de la siguiente), se seguirá cumpliendo la **prioridad invariante**."
      ],
      "metadata": {
        "id": "udNjXoOr5jbo"
      }
    },
    {
      "cell_type": "markdown",
      "source": [
        "![image.png](data:image/png;base64,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)"
      ],
      "metadata": {
        "id": "2baIK_Pg5sQR"
      }
    },
    {
      "cell_type": "markdown",
      "source": [
        "**Correctitud**\n",
        "\n",
        "Finalmente, como la propiedad del bucle invariante es verdadera al inicio del bucle y se mantiene en cada iteración, podemos decir que al finalizar la i-ésima iteración el arreglo se encontrará ordenado de menor a mayor y con la misma cantidad de elementos, por lo tanto, cumple con su proposito."
      ],
      "metadata": {
        "id": "biLnTnZ25y0J"
      }
    },
    {
      "cell_type": "markdown",
      "source": [
        "##Prueba del teorema (Función BucketSort)\n",
        "\n",
        "Para demostrar la correctitud de esta función haremos uso de la inducción matemática, para esto deberemos seguir los siguientes pasos.\n",
        "\n",
        "1. Probar $P(n)$ con un caso base, como por ejemplo $P(1)$.\n",
        "2. Consideramos que para caso $P(m)$ donde $m < n$ el algortimo es correcto, por lo tanto para $P(n)$ también se cumple.\n",
        "\n",
        "Para comprobar nuestro caso base $P(1)$, nuestro algoritmo recibirá un arreglo de largo 1 el cual asumirá automaticamente que este se encuentra ordenado.\n",
        "\n",
        "Para probar nuestro caso segundo caso, consideraremos que el arreglo recibido por nuestra función tendrá un largo de $n$ y luego cada dato ingresado en estos será colocado en sub-arreglos de largo $m < n$ el cual dependará de la cantidad de datos ingresados en cada arreglo, luego estos subarreglos serán ordenados junto a la función InsetionSort la cual ya tiene demostrada su correctitud, por lo tanto para nuestro caso está comprobado."
      ],
      "metadata": {
        "id": "uDxIs5Mf5DM4"
      }
    },
    {
      "cell_type": "markdown",
      "source": [
        "#5. Experimentos\n",
        "\n",
        "##5.1. Número de comparaciones\n",
        "\n",
        "A continuación se muestra gráficamente una comparación entre:\n",
        "\n",
        "* Cantidad comparaciones del peor caso calculadas matemáticamente.\n",
        "* Cantidad comparaciones del mejor caso calculadas matemáticamente (n-1 comparaciones si el arreglo está ordenado y el pivote se ubica en la última posición del arreglo). \n",
        "* Cantidad de comparaciones para entradas aleatorias, realizadas experimentalmente.\n",
        "*   Comparación entre la cantidad de comparaciones entre BucketSort y RadixSort.\n",
        "\n",
        "Para problemas con $n ∈ [5,100]$.\n",
        "\n",
        "Los arreglos de entrada son:\n",
        "\n",
        "* Casos aleatorios: La secuancia será un arreglo de números aleatorios entre 1 y 100, con $n$ cantidad de elementos.\n",
        "* Peor Caso: La secuencia será un arreglo ordenado desde 0 hasta $n - 1$."
      ],
      "metadata": {
        "id": "croI6cf_4Ho9"
      }
    }
  ]
}