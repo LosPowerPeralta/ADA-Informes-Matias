{
  "nbformat": 4,
  "nbformat_minor": 0,
  "metadata": {
    "colab": {
      "provenance": [],
      "collapsed_sections": [],
      "authorship_tag": "ABX9TyMu96f30EBwoww84exeuyvp",
      "include_colab_link": true
    },
    "kernelspec": {
      "name": "python3",
      "display_name": "Python 3"
    },
    "language_info": {
      "name": "python"
    }
  },
  "cells": [
    {
      "cell_type": "markdown",
      "metadata": {
        "id": "view-in-github",
        "colab_type": "text"
      },
      "source": [
        "<a href=\"https://colab.research.google.com/github/LosPowerPeralta/ADA-Informes-Matias/blob/main/Informe_BucketSort.ipynb\" target=\"_parent\"><img src=\"https://colab.research.google.com/assets/colab-badge.svg\" alt=\"Open In Colab\"/></a>"
      ]
    },
    {
      "cell_type": "markdown",
      "source": [
        "#1. Problema de ordenamiento\n",
        "\n",
        "Los problemas de ordenamiento desde hace mucho tiempo llevan siendo un desafío para los programadores ya que siempre se intenta buscar algún algoritmo el cual pueda resolverlos de la forma más rápida posible con el menor tiempo.\n",
        "\n",
        "Por esta misma razón se decidió inventar un nuevo método de ordenamiento conocido como BucketSort.\n",
        "\n",
        "Entrada: una secuencia de n números $[a_1, a_2,...,a_n]$\n",
        "\n",
        "Salida: Retorna una secuencia de n números ordenada de menor a mayor donde $a'_1 \\leq a'_2 \\leq ... \\leq a'_n$."
      ],
      "metadata": {
        "id": "nPWU0gbh7L0T"
      }
    },
    {
      "cell_type": "markdown",
      "source": [
        "#2. BucketSort\n",
        "\n",
        "##2.1. Descripción del algoritmo\n",
        "\n",
        "El algoritmo BucketSort consiste en generar una matriz de largo $n$ $x$ $m$, donde $n$ viene siendo el largo del arreglo de entrada y $m$ corresponde a la cantidad de datos que irán guardados en cada sub-array, los cuales tendrán un rango en especifico para que a través de una operación matemática los datos se posicionen en cada sub-arreglo sin realizar comparaciones, el proposito de esto es diminuir el tamaño de entrada de nuestros arreglos para que la función de ordenamiento auxiliar (en nuestro caso el InsertionSort) no realice tantos procesos a la hora de ordenar la lista de entrada."
      ],
      "metadata": {
        "id": "i4ryGdpUE8t5"
      }
    },
    {
      "cell_type": "markdown",
      "source": [
        "![image.png](data:image/png;base64,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)"
      ],
      "metadata": {
        "id": "vLrVOpyCssI3"
      }
    },
    {
      "cell_type": "markdown",
      "source": [
        "##2.2. Código"
      ],
      "metadata": {
        "id": "Yo-STiSksoC2"
      }
    },
    {
      "cell_type": "code",
      "source": [
        "def InsertionSort(bucket):\n",
        "    for i in range (1, len (bucket)):\n",
        "        var = bucket[i]\n",
        "        j = i - 1\n",
        "        while (j >= 0 and var < bucket[j]):\n",
        "            bucket[j + 1] = bucket[j]\n",
        "            j = j - 1\n",
        "        bucket[j + 1] = var"
      ],
      "metadata": {
        "id": "LI_A8QR90Lj7"
      },
      "execution_count": null,
      "outputs": []
    },
    {
      "cell_type": "code",
      "execution_count": null,
      "metadata": {
        "id": "WmOxoDysscMv"
      },
      "outputs": [],
      "source": [
        "def BucketSort(input_list):\n",
        "    # Find maximum value in the list and use length of the list to determine which value in the list goes into which bucket \n",
        "    max_value = max(input_list)\n",
        "    size = max_value/len(input_list)\n",
        "\n",
        "    # Create n empty buckets where n is equal to the length of the input list\n",
        "    buckets_list= []\n",
        "    for x in range(len(input_list)):\n",
        "        buckets_list.append([]) \n",
        "\n",
        "    # Put list elements into different buckets based on the size\n",
        "    for i in range(len(input_list)):\n",
        "        j = int (input_list[i] / size)\n",
        "        if j != len (input_list):\n",
        "            buckets_list[j].append(input_list[i])\n",
        "        else:\n",
        "            buckets_list[len(input_list) - 1].append(input_list[i])\n",
        "\n",
        "    print(buckets_list)\n",
        "    # Sort elements within the buckets using Insertion Sort\n",
        "    for z in range(len(input_list)):\n",
        "        InsertionSort(buckets_list[z])\n",
        "            \n",
        "    # Concatenate buckets with sorted elements into a single list\n",
        "    final_output = []\n",
        "    for x in range(len (input_list)):\n",
        "        final_output = final_output + buckets_list[x]\n",
        "    return final_output"
      ]
    },
    {
      "cell_type": "code",
      "source": [
        "A = [2,3,4,1,8,7]\n",
        "\n",
        "A = BucketSort(A)\n",
        "print(A)"
      ],
      "metadata": {
        "id": "tPZTd6wcUr5H",
        "colab": {
          "base_uri": "https://localhost:8080/"
        },
        "outputId": "c991ee29-d7d4-4630-9d22-91cacb34ce76"
      },
      "execution_count": null,
      "outputs": [
        {
          "output_type": "stream",
          "name": "stdout",
          "text": [
            "[[1], [2], [3], [4], [], [8, 7]]\n",
            "[1, 2, 3, 4, 7, 8]\n"
          ]
        }
      ]
    }
  ]
}